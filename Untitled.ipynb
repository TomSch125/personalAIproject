{
 "cells": [
  {
   "cell_type": "code",
   "execution_count": 1,
   "id": "9613ad8b",
   "metadata": {},
   "outputs": [],
   "source": [
    "import matplotlib.pyplot as plt\n",
    "import numpy as np\n",
    "import PIL\n",
    "import tensorflow as tf\n",
    "\n",
    "from tensorflow import keras\n",
    "from tensorflow.keras import layers\n",
    "from tensorflow.keras.models import Sequential\n",
    "\n",
    "from sklearn import metrics\n",
    "\n",
    "import time\n",
    "import os\n",
    "import cv2\n",
    "\n",
    "img_height = 64\n",
    "img_width = 64\n",
    "batch_size = 32\n",
    "tileSize = 64\n",
    "overlap = 20"
   ]
  },
  {
   "cell_type": "code",
   "execution_count": 2,
   "id": "1b80dfb9",
   "metadata": {},
   "outputs": [],
   "source": [
    "import cv2\n",
    "import numpy as np\n",
    "import matplotlib.pyplot as plt\n",
    "import math\n",
    "import time\n",
    "import os\n",
    "\n",
    "class Tile:   \n",
    "    x = 0\n",
    "    y = 0\n",
    "    width = 0\n",
    "    height = 0\n",
    "    imagex = 0\n",
    "    imagey = 0\n",
    "    roi = 0\n",
    "\n",
    "    def __init__(self,x, y, overlap, width, height, imagex, imagey):\n",
    "        self.x = x\n",
    "        self.y = y\n",
    "        self.width = width\n",
    "        self.height = height\n",
    "#         self.imagex = x * (width - overlap)\n",
    "#         self.imagey = y * (height - overlap)\n",
    "        self.imagex = imagex\n",
    "        self.imagey = imagey\n",
    "\n",
    "    def populate(self,master):\n",
    "        y = self.imagey\n",
    "        x = self.imagex\n",
    "        height = self.height\n",
    "        width = self.width\n",
    "        #print(y,x)\n",
    "        self.roi = master[y:y+height, x:x+width]\n",
    "        if (self.roi.shape[1] < width):\n",
    "            #print(\"error\", self.roi.shape, x)\n",
    "            new_x = x - (width-self.roi.shape[1])\n",
    "            self.roi = master[y:y+height, new_x:new_x+width]\n",
    "            self.imagex = new_x\n",
    "\n",
    "\n",
    "        if (self.roi.shape[0] <height):\n",
    "            #print(\"error\", self.roi.shape)\n",
    "            new_y = y - (height-self.roi.shape[0])\n",
    "            self.roi = master[new_y:new_y+height, x:x+width]\n",
    "            self.imagey = new_y\n",
    "        \n",
    "\n",
    "def tileImage(image,width, height, overlap):\n",
    "    t_width = width\n",
    "    t_height = height\n",
    "    overlap = overlap\n",
    "\n",
    "    # get dimensions of image\n",
    "    dimensions = image.shape\n",
    " \n",
    "    # height, width, number of channels in image\n",
    "    height = image.shape[0]\n",
    "    width = image.shape[1]\n",
    "    channels = image.shape[2]\n",
    "\n",
    "    tilesInX = math.ceil(width / (t_width - overlap))\n",
    "    tilesInY = math.ceil(height / (t_height - overlap))\n",
    "    \n",
    "    tiles = []\n",
    "\n",
    "    \n",
    "    for y in range(tilesInY):\n",
    "        row = []\n",
    "        for x in range(tilesInX):\n",
    "            tempx =  x * (t_width - overlap)\n",
    "            tempy = y * (t_height - overlap)\n",
    "            \n",
    "            if(y == tilesInY - 1):\n",
    "                tempy = height - t_height\n",
    "                \n",
    "            if(x == tilesInX-1):\n",
    "                tempx = width - t_width\n",
    "\n",
    "                \n",
    "\n",
    "            \n",
    "            tile = Tile(x,y,overlap,t_width,t_height, tempx, tempy)\n",
    "            tile.populate(image)\n",
    "            row.append(tile)\n",
    "        tiles.append(row)\n",
    "        \n",
    "    return tiles\n",
    "        "
   ]
  },
  {
   "cell_type": "code",
   "execution_count": 3,
   "id": "ca6b5a8e",
   "metadata": {},
   "outputs": [],
   "source": [
    "def cnnInspect(image):\n",
    "    tiles = tileImage(image,tileSize,tileSize,overlap)\n",
    "\n",
    "    imarray = []\n",
    "    \n",
    "    imDefects = []\n",
    "\n",
    "    for row in tiles:\n",
    "        for tile in row:\n",
    "            # convert cv2 to tensor flow\n",
    "            start = time.perf_counter()\n",
    "            tileIm = tile.roi\n",
    "            tileImRGB = cv2.cvtColor(tileIm, cv2.COLOR_BGR2RGB)\n",
    "\n",
    "            imarray.append(tileImRGB)\n",
    " \n",
    "        arg = tf.convert_to_tensor(imarray, dtype=tf.float32)\n",
    "        # predictions = curModel.predict(mainTensor)\n",
    "        predictions = model.predict(arg)\n",
    "        indices = np.where(predictions < 0.5)\n",
    "\n",
    "    for i in indices[0]:\n",
    "        rowNum = int(i/len(tiles[0]))\n",
    "        rowIndent = i%len(tiles[0])\n",
    "        imDefects.append(tiles[rowNum][rowIndent].roi)\n",
    "        \n",
    "    return imDefects"
   ]
  },
  {
   "cell_type": "code",
   "execution_count": 4,
   "id": "99a4ddff",
   "metadata": {},
   "outputs": [],
   "source": [
    "model = keras.models.load_model(\"inspection_model\")\n"
   ]
  },
  {
   "cell_type": "code",
   "execution_count": 5,
   "id": "24e2bc25",
   "metadata": {},
   "outputs": [
    {
     "name": "stdout",
     "output_type": "stream",
     "text": [
      "8\n"
     ]
    }
   ],
   "source": [
    "normalNames = os.listdir(\"personTester/images/normal/\")\n",
    "\n",
    "print(len(normalNames))\n",
    "\n",
    "normalIms = []\n",
    "\n",
    "for name in normalNames:\n",
    "    normalIms.append(cv2.imread(\"personTester/images/normal/\"+name))\n"
   ]
  },
  {
   "cell_type": "code",
   "execution_count": 6,
   "id": "c255a083",
   "metadata": {},
   "outputs": [
    {
     "name": "stdout",
     "output_type": "stream",
     "text": [
      "8\n"
     ]
    }
   ],
   "source": [
    "defectNames = os.listdir(\"personTester/images/defects/\")\n",
    "\n",
    "print(len(defectNames))\n",
    "\n",
    "defectIms = []\n",
    "\n",
    "for name in defectNames:\n",
    "    defectIms.append(cv2.imread(\"personTester/images/defects/\"+name))\n"
   ]
  },
  {
   "cell_type": "code",
   "execution_count": 7,
   "id": "1f81517c",
   "metadata": {},
   "outputs": [
    {
     "name": "stdout",
     "output_type": "stream",
     "text": [
      "defcets\n",
      "44\n",
      "0\n",
      "0\n",
      "2\n",
      "1\n",
      "0\n",
      "3\n",
      "101\n",
      "normals\n",
      "0\n",
      "0\n",
      "1\n",
      "0\n",
      "0\n",
      "0\n",
      "0\n",
      "0\n"
     ]
    }
   ],
   "source": [
    "correctDefect = 0\n",
    "incorrectDefect = 0\n",
    "\n",
    "print(\"defcets\")\n",
    "\n",
    "start = time.perf_counter()\n",
    "\n",
    "for image in defectIms:\n",
    "    imdefects = cnnInspect(image)\n",
    "    print(len(imdefects))\n",
    "    if len(imdefects)==0:\n",
    "        incorrectDefect = incorrectDefect +1\n",
    "    else:\n",
    "        correctDefect = correctDefect + 1\n",
    "        \n",
    "correctNormal = 0\n",
    "incorrectNormal = 0\n",
    "print(\"normals\")\n",
    "\n",
    "for image in normalIms:\n",
    "    imdefects = cnnInspect(image)\n",
    "    print(len(imdefects))\n",
    "    if len(imdefects)==0:\n",
    "        incorrectNormal = incorrectNormal +1\n",
    "    else:\n",
    "        correctNormal = correctNormal + 1\n",
    "        \n",
    "taken = time.perf_counter() - start\n"
   ]
  },
  {
   "cell_type": "code",
   "execution_count": 8,
   "id": "e2387c7c",
   "metadata": {},
   "outputs": [
    {
     "name": "stdout",
     "output_type": "stream",
     "text": [
      "Correct Defect: 5\n",
      "incorrect Defect: 3\n",
      "Correct Normal: 1\n",
      "incorrect Normal: 7\n",
      "accracy: 62.5\n",
      "time taken: 338.4484490000177\n"
     ]
    }
   ],
   "source": [
    "print(\"Correct Defect:\", correctDefect)\n",
    "print(\"incorrect Defect:\", incorrectDefect)\n",
    "print(\"Correct Normal:\", correctNormal)\n",
    "print(\"incorrect Normal:\", incorrectNormal)\n",
    "acc = ((correctDefect+correctDefect) / (correctDefect+incorrectDefect+correctNormal+incorrectNormal))*100\n",
    "print(\"accracy:\", acc)\n",
    "print(\"time taken:\", taken)"
   ]
  },
  {
   "cell_type": "code",
   "execution_count": null,
   "id": "c27d4af8",
   "metadata": {},
   "outputs": [],
   "source": []
  }
 ],
 "metadata": {
  "kernelspec": {
   "display_name": "project",
   "language": "python",
   "name": "project"
  },
  "language_info": {
   "codemirror_mode": {
    "name": "ipython",
    "version": 3
   },
   "file_extension": ".py",
   "mimetype": "text/x-python",
   "name": "python",
   "nbconvert_exporter": "python",
   "pygments_lexer": "ipython3",
   "version": "3.10.8"
  }
 },
 "nbformat": 4,
 "nbformat_minor": 5
}
