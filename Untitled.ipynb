{
 "cells": [
  {
   "cell_type": "code",
   "execution_count": 35,
   "id": "5ff8a364",
   "metadata": {},
   "outputs": [],
   "source": [
    "import cv2\n",
    "import numpy as np\n",
    "import matplotlib.pyplot as plt\n",
    "import math\n",
    "import time\n",
    "import os\n",
    "from sklearn.impute import SimpleImputer\n",
    "from sklearn.model_selection import ShuffleSplit\n",
    "\n",
    "\n",
    "pathDefectTile = \"C:/Users/schof/LeedsUni/personalproject/DefectTiles/\"\n",
    "pathDefectTileStrict = \"C:/Users/schof/LeedsUni/personalproject/DefectTilesStrict/\"\n",
    "pathGoodTile = \"C:/Users/schof/LeedsUni/personalproject/GoodTiles/\"\n"
   ]
  },
  {
   "cell_type": "code",
   "execution_count": 36,
   "id": "0bf664e0",
   "metadata": {},
   "outputs": [],
   "source": [
    "# importing test tiles. Do not need to be partitioned as test train sets as its rule based\n",
    "\n",
    "goodNamesAll = os.listdir(pathGoodTile)\n",
    "goodNames = []\n",
    "\n",
    "# only importing a fraction of good tiles to not add bias to system\n",
    "indexes = np.random.randint(0, len(goodNamesAll)-1, size=11000)\n",
    "\n",
    "for i in indexes:\n",
    "    goodNames.append(goodNamesAll[i])\n",
    "    \n",
    "all_features = []\n",
    "all_lables = []\n",
    "\n",
    "\n",
    "for name in goodNames:\n",
    "    all_features.append(cv2.imread(pathGoodTile+name))\n",
    "    all_lables.append(\"normal\")\n",
    "    \n"
   ]
  },
  {
   "cell_type": "code",
   "execution_count": 37,
   "id": "ac97cb9f",
   "metadata": {},
   "outputs": [
    {
     "name": "stdout",
     "output_type": "stream",
     "text": [
      "1019\n"
     ]
    }
   ],
   "source": [
    "defectNames = os.listdir(pathDefectTileStrict)\n",
    "\n",
    "print(len(defectNames))\n",
    "\n",
    "for name in defectNames:\n",
    "    all_features.append(cv2.imread(pathDefectTileStrict+name))\n",
    "    all_lables.append(\"defect\")\n"
   ]
  },
  {
   "cell_type": "code",
   "execution_count": 38,
   "id": "e8996935",
   "metadata": {},
   "outputs": [
    {
     "name": "stdout",
     "output_type": "stream",
     "text": [
      "12019\n",
      "counts:\n",
      "87\n",
      "1057\n",
      "932\n",
      "9943\n",
      "--------------\n",
      "counts after shuffle:\n",
      "87\n",
      "1057\n",
      "932\n",
      "9943\n"
     ]
    }
   ],
   "source": [
    "test_size = int(0.1*len(all_features)) # 10%\n",
    "indexesTest = np.random.randint(0, len(all_features), size=test_size)\n",
    "\n",
    "test_features = []\n",
    "test_lables = []\n",
    "train_features = []\n",
    "train_lables = []\n",
    "\n",
    "print(len(all_features))\n",
    "\n",
    "for i in range(0, len(all_features)):\n",
    "    if i in indexesTest:\n",
    "        test_features.append(all_features[i])\n",
    "        test_lables.append(all_lables[i])\n",
    "    else:\n",
    "        train_features.append(all_features[i])\n",
    "        train_lables.append(all_lables[i])\n",
    "    \n",
    "# now we shuffell the test and training sets, to reduce bias and converge faster\n",
    "\n",
    "print(\"counts:\")\n",
    "\n",
    "print(test_lables.count(\"defect\"))\n",
    "print(test_lables.count(\"normal\"))\n",
    "print(train_lables.count(\"defect\"))\n",
    "print(train_lables.count(\"normal\"))\n",
    "\n",
    "\n",
    "def shuffle(features, lables):\n",
    "    size_s = int(0.8*(len(features)))\n",
    "    shuffle_1 = np.random.randint(0, len(features), size=size_s)\n",
    "    shuffle_2 = np.random.randint(0, len(features), size=size_s)\n",
    "    \n",
    "    for i in range(0,len(shuffle_1)):\n",
    "        temp = features[shuffle_1[i]]\n",
    "        features[shuffle_1[i]] = features[shuffle_2[i]]\n",
    "        features[shuffle_2[i]] = temp\n",
    "    \n",
    "        temp = lables[shuffle_1[i]]\n",
    "        lables[shuffle_1[i]] = lables[shuffle_2[i]]\n",
    "        lables[shuffle_2[i]] = temp\n",
    "        \n",
    "    return features, lables\n",
    "\n",
    "\n",
    "test_features, test_lables =  shuffle(test_features, test_lables)\n",
    "\n",
    "train_features, train_lables =  shuffle(train_features, train_lables)\n",
    "\n",
    "\n",
    "print(\"--------------\\ncounts after shuffle:\")\n",
    "\n",
    "print(test_lables.count(\"defect\"))\n",
    "print(test_lables.count(\"normal\"))\n",
    "print(train_lables.count(\"defect\"))\n",
    "print(train_lables.count(\"normal\"))\n",
    "    \n",
    "    \n",
    "    \n"
   ]
  },
  {
   "cell_type": "code",
   "execution_count": null,
   "id": "cfeb2a16",
   "metadata": {},
   "outputs": [],
   "source": []
  }
 ],
 "metadata": {
  "kernelspec": {
   "display_name": "project",
   "language": "python",
   "name": "project"
  },
  "language_info": {
   "codemirror_mode": {
    "name": "ipython",
    "version": 3
   },
   "file_extension": ".py",
   "mimetype": "text/x-python",
   "name": "python",
   "nbconvert_exporter": "python",
   "pygments_lexer": "ipython3",
   "version": "3.10.8"
  }
 },
 "nbformat": 4,
 "nbformat_minor": 5
}
