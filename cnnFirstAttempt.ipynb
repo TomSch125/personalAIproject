{
 "cells": [
  {
   "cell_type": "code",
   "execution_count": 142,
   "id": "5ff8a364",
   "metadata": {},
   "outputs": [],
   "source": [
    "import cv2\n",
    "import numpy as np\n",
    "import matplotlib.pyplot as plt\n",
    "import math\n",
    "import time\n",
    "import os\n",
    "from sklearn.model_selection import ShuffleSplit\n",
    "\n",
    "import seaborn as sns\n",
    "\n",
    "import keras\n",
    "from keras.models import Sequential\n",
    "from keras.layers import Dense, Conv2D , MaxPool2D , Flatten , Dropout \n",
    "from keras.preprocessing.image import ImageDataGenerator\n",
    "#from keras.optimizers import Adam\n",
    "from tensorflow.keras.optimizers import Adam # - Works\n",
    "\n",
    "from sklearn.metrics import classification_report,confusion_matrix\n",
    "\n",
    "import tensorflow as tf\n",
    "from tensorflow.keras import layers\n",
    "\n",
    "\n",
    "pathDefectTile = \"C:/Users/schof/LeedsUni/personalproject/DefectTiles/\"\n",
    "pathDefectTileStrict = \"C:/Users/schof/LeedsUni/personalproject/tiles/defect/\"\n",
    "pathGoodTile = \"C:/Users/schof/LeedsUni/personalproject/tiles/normal/\"\n",
    "\n",
    "img_size = 64\n"
   ]
  },
  {
   "cell_type": "code",
   "execution_count": 143,
   "id": "0bf664e0",
   "metadata": {},
   "outputs": [],
   "source": [
    "# importing test tiles. Do not need to be partitioned as test train sets as its rule based\n",
    "\n",
    "goodNamesAll = os.listdir(pathGoodTile)\n",
    "goodNames = []\n",
    "\n",
    "# only importing a fraction of good tiles to not add bias to system\n",
    "indexes = np.random.randint(0, len(goodNamesAll)-1, size=1000)\n",
    "\n",
    "\n",
    "for i in indexes:\n",
    "    goodNames.append(goodNamesAll[i])\n",
    "    \n",
    "all_features = []\n",
    "all_lables = []\n",
    "\n",
    "\n",
    "for name in goodNames:\n",
    "#     img = cv2.imread(pathGoodTile+name)[...,::-1]\n",
    "    img = cv2.imread(pathGoodTile+name)\n",
    "    cv2.resize(img, (img_size, img_size))\n",
    "    all_features.append(img)\n",
    "#     all_lables.append(\"normal\")\n",
    "    all_lables.append(0)\n",
    "\n",
    "    \n"
   ]
  },
  {
   "cell_type": "code",
   "execution_count": 144,
   "id": "ac97cb9f",
   "metadata": {},
   "outputs": [
    {
     "name": "stdout",
     "output_type": "stream",
     "text": [
      "1019\n"
     ]
    }
   ],
   "source": [
    "defectNames = os.listdir(pathDefectTileStrict)\n",
    "\n",
    "print(len(defectNames))\n",
    "\n",
    "for name in defectNames:\n",
    "#     img = cv2.imread(pathDefectTileStrict+name)[...,::-1]\n",
    "    img = cv2.imread(pathDefectTileStrict+name)\n",
    "    cv2.resize(img, (img_size, img_size))\n",
    "    all_features.append(img)\n",
    "#     all_lables.append(\"defect\")\n",
    "    all_lables.append(1)\n",
    "\n"
   ]
  },
  {
   "cell_type": "code",
   "execution_count": 145,
   "id": "e8996935",
   "metadata": {},
   "outputs": [
    {
     "name": "stdout",
     "output_type": "stream",
     "text": [
      "2019\n",
      "counts:\n",
      "100\n",
      "91\n",
      "919\n",
      "909\n",
      "--------------\n",
      "counts after shuffle:\n",
      "100\n",
      "91\n",
      "919\n",
      "909\n"
     ]
    }
   ],
   "source": [
    "test_size = int(0.1*len(all_features)) # 10%\n",
    "indexesTest = np.random.randint(0, len(all_features), size=test_size)\n",
    "\n",
    "test_features = []\n",
    "test_lables = []\n",
    "train_features = []\n",
    "train_lables = []\n",
    "\n",
    "print(len(all_features))\n",
    "\n",
    "for i in range(0, len(all_features)):\n",
    "    if i in indexesTest:\n",
    "        test_features.append(all_features[i])\n",
    "        test_lables.append(all_lables[i])\n",
    "    else:\n",
    "        train_features.append(all_features[i])\n",
    "        train_lables.append(all_lables[i])\n",
    "    \n",
    "# now we shuffell the test and training sets, to reduce bias and converge faster\n",
    "\n",
    "print(\"counts:\")\n",
    "\n",
    "print(test_lables.count(1))\n",
    "print(test_lables.count(0))\n",
    "print(train_lables.count(1))\n",
    "print(train_lables.count(0))\n",
    "\n",
    "\n",
    "def shuffle(features, lables):\n",
    "    size_s = int(0.8*(len(features)))\n",
    "    shuffle_1 = np.random.randint(0, len(features), size=size_s)\n",
    "    shuffle_2 = np.random.randint(0, len(features), size=size_s)\n",
    "    \n",
    "    for i in range(0,len(shuffle_1)):\n",
    "        temp = features[shuffle_1[i]]\n",
    "        features[shuffle_1[i]] = features[shuffle_2[i]]\n",
    "        features[shuffle_2[i]] = temp\n",
    "    \n",
    "        temp = lables[shuffle_1[i]]\n",
    "        lables[shuffle_1[i]] = lables[shuffle_2[i]]\n",
    "        lables[shuffle_2[i]] = temp\n",
    "        \n",
    "    return features, lables\n",
    "\n",
    "\n",
    "test_features, test_lables =  shuffle(test_features, test_lables)\n",
    "\n",
    "train_features, train_lables =  shuffle(train_features, train_lables)\n",
    "\n",
    "\n",
    "print(\"--------------\\ncounts after shuffle:\")\n",
    "\n",
    "print(test_lables.count(1))\n",
    "print(test_lables.count(0))\n",
    "print(train_lables.count(1))\n",
    "print(train_lables.count(0))\n",
    "    \n",
    "    \n",
    "    \n"
   ]
  },
  {
   "cell_type": "code",
   "execution_count": 146,
   "id": "cfeb2a16",
   "metadata": {},
   "outputs": [
    {
     "name": "stdout",
     "output_type": "stream",
     "text": [
      "80\n",
      "89\n",
      "839\n",
      "820\n"
     ]
    },
    {
     "data": {
      "image/png": "[encoded data removed]",
      "text/plain": [
       "<Figure size 640x480 with 1 Axes>"
      ]
     },
     "metadata": {},
     "output_type": "display_data"
    }
   ],
   "source": [
    "# finally i need to split the training data into training and validation sets\n",
    "\n",
    "test_size = int(0.2*len(train_features)) # 10%\n",
    "indexesTest = np.random.randint(0, len(train_features), size=test_size)\n",
    "\n",
    "p_x_val = []\n",
    "p_y_val = []\n",
    "p_x_train = []\n",
    "p_y_train = []\n",
    "\n",
    "for i in range(0, len(train_features)):\n",
    "    if i in indexesTest:\n",
    "        p_x_val.append(train_features[i])\n",
    "        p_y_val.append(train_lables[i])\n",
    "    else:\n",
    "        p_x_train.append(train_features[i])\n",
    "        p_y_train.append(train_lables[i])\n",
    "        \n",
    "print(p_y_val.count(1))\n",
    "print(p_y_val.count(0))\n",
    "print(p_y_train.count(1))\n",
    "print(p_y_train.count(0))\n",
    "\n",
    "plt.imshow(p_x_train[100])\n",
    "plt.show()"
   ]
  },
  {
   "cell_type": "code",
   "execution_count": 147,
   "id": "634ba2a1",
   "metadata": {},
   "outputs": [
    {
     "name": "stdout",
     "output_type": "stream",
     "text": [
      "[89 80]\n",
      "[820 839]\n"
     ]
    }
   ],
   "source": [
    "# now we need to reshape and norlalise all the date so it can be used in a CNN\n",
    "N = len(p_x_train)\n",
    "H = img_size\n",
    "W = img_size\n",
    "x_train = np.empty((N, H, W, 3), dtype=np.float32) \n",
    "N = len(p_x_val)\n",
    "x_val = np.empty((N, H, W, 3), dtype=np.float32) \n",
    "N = len(test_features)\n",
    "x_test = np.empty((N, H, W, 3), dtype=np.float32) \n",
    "\n",
    "\n",
    "for i in range(0, len(p_x_train)):\n",
    "    x_train[i] = p_x_train[i]\n",
    "    \n",
    "for i in range(0, len(p_x_val)):\n",
    "    x_val[i] = p_x_val[i]\n",
    "    \n",
    "for i in range(0, len(test_features)):\n",
    "    x_test[i] = test_features[i]\n",
    "    \n",
    "    \n",
    "x_train = np.array(x_train) / 255\n",
    "x_val = np.array(x_val) / 255\n",
    "x_test = np.array(x_val) / 255\n",
    "\n",
    "\n",
    "x_train.reshape(-1, img_size, img_size, 1)\n",
    "y_train = np.array(p_y_train)\n",
    "\n",
    "x_val.reshape(-1, img_size, img_size, 1)\n",
    "y_val = np.array(p_y_val)\n",
    "\n",
    "x_test.reshape(-1, img_size, img_size, 1)\n",
    "y_test = np.array(test_lables)\n",
    "\n",
    "uniqueV, countsV = np.unique(y_val, return_counts=True)\n",
    "uniqueT, countsT = np.unique(y_train, return_counts=True)\n",
    "print(countsV)\n",
    "print(countsT)"
   ]
  },
  {
   "cell_type": "code",
   "execution_count": 148,
   "id": "3b07f8ed",
   "metadata": {},
   "outputs": [],
   "source": [
    "# datagen = ImageDataGenerator(\n",
    "#         featurewise_center=False,  # set input mean to 0 over the dataset\n",
    "#         samplewise_center=False,  # set each sample mean to 0\n",
    "#         featurewise_std_normalization=False,  # divide inputs by std of the dataset\n",
    "#         samplewise_std_normalization=False,  # divide each input by its std\n",
    "#         zca_whitening=False,  # apply ZCA whitening\n",
    "#         rotation_range = 180,  # randomly rotate images in the range (degrees, 0 to 180)\n",
    "#         zoom_range = 0, # Randomly zoom image \n",
    "#         width_shift_range=0,  # randomly shift images horizontally (fraction of total width)\n",
    "#         height_shift_range=0,  # randomly shift images vertically (fraction of total height)\n",
    "#         horizontal_flip = True,  # randomly flip images\n",
    "#         vertical_flip=False)  # randomly flip images\n",
    "\n",
    "# datagen.fit(x_train)\n"
   ]
  },
  {
   "cell_type": "code",
   "execution_count": 149,
   "id": "2752d386",
   "metadata": {},
   "outputs": [
    {
     "name": "stdout",
     "output_type": "stream",
     "text": [
      "Model: \"sequential_7\"\n",
      "_________________________________________________________________\n",
      " Layer (type)                Output Shape              Param #   \n",
      "=================================================================\n",
      " rescaling (Rescaling)       (None, 64, 64, 3)         0         \n",
      "                                                                 \n",
      " conv2d_21 (Conv2D)          (None, 64, 64, 16)        448       \n",
      "                                                                 \n",
      " max_pooling2d_21 (MaxPoolin  (None, 32, 32, 16)       0         \n",
      " g2D)                                                            \n",
      "                                                                 \n",
      " conv2d_22 (Conv2D)          (None, 32, 32, 32)        4640      \n",
      "                                                                 \n",
      " max_pooling2d_22 (MaxPoolin  (None, 16, 16, 32)       0         \n",
      " g2D)                                                            \n",
      "                                                                 \n",
      " conv2d_23 (Conv2D)          (None, 16, 16, 64)        18496     \n",
      "                                                                 \n",
      " max_pooling2d_23 (MaxPoolin  (None, 8, 8, 64)         0         \n",
      " g2D)                                                            \n",
      "                                                                 \n",
      " flatten_7 (Flatten)         (None, 4096)              0         \n",
      "                                                                 \n",
      " dense_14 (Dense)            (None, 128)               524416    \n",
      "                                                                 \n",
      " dense_15 (Dense)            (None, 2)                 258       \n",
      "                                                                 \n",
      "=================================================================\n",
      "Total params: 548,258\n",
      "Trainable params: 548,258\n",
      "Non-trainable params: 0\n",
      "_________________________________________________________________\n"
     ]
    }
   ],
   "source": [
    "# model = Sequential()\n",
    "# model.add(Conv2D(32,3,padding=\"same\", activation=\"relu\", input_shape=(64,64,3)))\n",
    "# model.add(MaxPool2D())\n",
    "\n",
    "# model.add(Conv2D(32, 3, padding=\"same\", activation=\"relu\"))\n",
    "# model.add(MaxPool2D())\n",
    "\n",
    "# model.add(Conv2D(64, 3, padding=\"same\", activation=\"relu\"))\n",
    "# model.add(MaxPool2D())\n",
    "# model.add(Dropout(0.4))\n",
    "\n",
    "# model.add(Flatten())\n",
    "# model.add(Dense(128,activation=\"relu\"))\n",
    "# # model.add(Dense(2, activation=\"softmax\"))\n",
    "# model.add(Dense(2))\n",
    "\n",
    "\n",
    "\n",
    "# new -------------------\n",
    "\n",
    "num_classes = 2\n",
    "img_height = img_size\n",
    "img_width = img_size\n",
    "\n",
    "model = Sequential([\n",
    "  layers.Rescaling(1./255, input_shape=(img_height, img_width, 3)),\n",
    "  layers.Conv2D(16, 3, padding='same', activation='relu'),\n",
    "  layers.MaxPooling2D(),\n",
    "  layers.Conv2D(32, 3, padding='same', activation='relu'),\n",
    "  layers.MaxPooling2D(),\n",
    "  layers.Conv2D(64, 3, padding='same', activation='relu'),\n",
    "  layers.MaxPooling2D(),\n",
    "  layers.Flatten(),\n",
    "  layers.Dense(128, activation='relu'),\n",
    "  layers.Dense(num_classes)\n",
    "])\n",
    "\n",
    "\n",
    "model.summary()\n"
   ]
  },
  {
   "cell_type": "code",
   "execution_count": 150,
   "id": "e2a8e466",
   "metadata": {},
   "outputs": [],
   "source": [
    "opt = Adam(learning_rate=0.000001)\n",
    "model.compile(optimizer = opt , loss = tf.keras.losses.SparseCategoricalCrossentropy(from_logits=True) , metrics = ['accuracy'])\n"
   ]
  },
  {
   "cell_type": "code",
   "execution_count": 151,
   "id": "6f0dc908",
   "metadata": {},
   "outputs": [
    {
     "name": "stdout",
     "output_type": "stream",
     "text": [
      "Epoch 1/2\n",
      "52/52 [==============================] - 6s 88ms/step - loss: 0.6931 - accuracy: 0.5057 - val_loss: 0.6932 - val_accuracy: 0.4734\n",
      "Epoch 2/2\n",
      "52/52 [==============================] - 4s 85ms/step - loss: 0.6931 - accuracy: 0.5057 - val_loss: 0.6932 - val_accuracy: 0.4734\n"
     ]
    }
   ],
   "source": [
    "history = model.fit(x_train,y_train,epochs = 2 , validation_data = (x_val, y_val))\n"
   ]
  },
  {
   "cell_type": "code",
   "execution_count": 152,
   "id": "90291858",
   "metadata": {},
   "outputs": [
    {
     "data": {
      "image/png": "[encoded data removed]",
      "text/plain": [
       "<Figure size 1500x1500 with 2 Axes>"
      ]
     },
     "metadata": {},
     "output_type": "display_data"
    },
    {
     "data": {
      "text/plain": [
       "<Figure size 640x480 with 0 Axes>"
      ]
     },
     "metadata": {},
     "output_type": "display_data"
    }
   ],
   "source": [
    "acc = history.history['accuracy']\n",
    "val_acc = history.history['val_accuracy']\n",
    "loss = history.history['loss']\n",
    "val_loss = history.history['val_loss']\n",
    "\n",
    "epochs_range = range(2)\n",
    "\n",
    "plt.figure(figsize=(15, 15))\n",
    "plt.subplot(2, 2, 1)\n",
    "plt.plot(epochs_range, acc, label='Training Accuracy')\n",
    "plt.plot(epochs_range, val_acc, label='Validation Accuracy')\n",
    "plt.legend(loc='lower right')\n",
    "plt.title('Training and Validation Accuracy')\n",
    "\n",
    "plt.subplot(2, 2, 2)\n",
    "plt.plot(epochs_range, loss, label='Training Loss')\n",
    "plt.plot(epochs_range, val_loss, label='Validation Loss')\n",
    "plt.legend(loc='upper right')\n",
    "plt.title('Training and Validation Loss')\n",
    "plt.show()\n",
    "plt.savefig(\"trainingData\")"
   ]
  },
  {
   "cell_type": "code",
   "execution_count": 155,
   "id": "76af9709",
   "metadata": {},
   "outputs": [
    {
     "name": "stdout",
     "output_type": "stream",
     "text": [
      "169\n",
      "169\n",
      "[1 1 1 1 1 1 1 1 1 1 1 1 1 1 1 1 1 1 1 1 1 1 1 1 1 1 1 1 1 1 1 1 1 1 1 1 1\n",
      " 1 1 1 1 1 1 1 1 1 1 1 1 1 1 1 1 1 1 1 1 1 1 1 1 1 1 1 1 1 1 1 1 1 1 1 1 1\n",
      " 1 1 1 1 1 1 1 1 1 1 1 1 1 1 1 1 1 1 1 1 1 1 1 1 1 1 1 1 1 1 1 1 1 1 1 1 1\n",
      " 1 1 1 1 1 1 1 1 1 1 1 1 1 1 1 1 1 1 1 1 1 1 1 1 1 1 1 1 1 1 1 1 1 1 1 1 1\n",
      " 1 1 1 1 1 1 1 1 1 1 1 1 1 1 1 1 1 1 1 1 1]\n"
     ]
    },
    {
     "ename": "ValueError",
     "evalue": "Classification metrics can't handle a mix of binary and continuous-multioutput targets",
     "output_type": "error",
     "traceback": [
      "\u001b[1;31m---------------------------------------------------------------------------\u001b[0m",
      "\u001b[1;31mValueError\u001b[0m                                Traceback (most recent call last)",
      "Cell \u001b[1;32mIn [155], line 9\u001b[0m\n\u001b[0;32m      4\u001b[0m classes_x\u001b[38;5;241m=\u001b[39mnp\u001b[38;5;241m.\u001b[39margmax(predictions,axis\u001b[38;5;241m=\u001b[39m\u001b[38;5;241m1\u001b[39m)\n\u001b[0;32m      6\u001b[0m \u001b[38;5;28mprint\u001b[39m(classes_x)\n\u001b[1;32m----> 9\u001b[0m \u001b[38;5;28mprint\u001b[39m(\u001b[43mclassification_report\u001b[49m\u001b[43m(\u001b[49m\u001b[43my_val\u001b[49m\u001b[43m,\u001b[49m\u001b[43m \u001b[49m\u001b[43mpredictions\u001b[49m\u001b[43m,\u001b[49m\u001b[43m \u001b[49m\u001b[43mtarget_names\u001b[49m\u001b[43m \u001b[49m\u001b[38;5;241;43m=\u001b[39;49m\u001b[43m \u001b[49m\u001b[43m[\u001b[49m\u001b[38;5;124;43m'\u001b[39;49m\u001b[38;5;124;43mNormal (Class 0)\u001b[39;49m\u001b[38;5;124;43m'\u001b[39;49m\u001b[43m,\u001b[49m\u001b[38;5;124;43m'\u001b[39;49m\u001b[38;5;124;43mDefect (Class 1)\u001b[39;49m\u001b[38;5;124;43m'\u001b[39;49m\u001b[43m]\u001b[49m\u001b[43m)\u001b[49m)\n",
      "File \u001b[1;32m~\\anaconda3\\envs\\project\\lib\\site-packages\\sklearn\\metrics\\_classification.py:2310\u001b[0m, in \u001b[0;36mclassification_report\u001b[1;34m(y_true, y_pred, labels, target_names, sample_weight, digits, output_dict, zero_division)\u001b[0m\n\u001b[0;32m   2195\u001b[0m \u001b[38;5;28;01mdef\u001b[39;00m \u001b[38;5;21mclassification_report\u001b[39m(\n\u001b[0;32m   2196\u001b[0m     y_true,\n\u001b[0;32m   2197\u001b[0m     y_pred,\n\u001b[1;32m   (...)\u001b[0m\n\u001b[0;32m   2204\u001b[0m     zero_division\u001b[38;5;241m=\u001b[39m\u001b[38;5;124m\"\u001b[39m\u001b[38;5;124mwarn\u001b[39m\u001b[38;5;124m\"\u001b[39m,\n\u001b[0;32m   2205\u001b[0m ):\n\u001b[0;32m   2206\u001b[0m     \u001b[38;5;124;03m\"\"\"Build a text report showing the main classification metrics.\u001b[39;00m\n\u001b[0;32m   2207\u001b[0m \n\u001b[0;32m   2208\u001b[0m \u001b[38;5;124;03m    Read more in the :ref:`User Guide <classification_report>`.\u001b[39;00m\n\u001b[1;32m   (...)\u001b[0m\n\u001b[0;32m   2307\u001b[0m \u001b[38;5;124;03m    <BLANKLINE>\u001b[39;00m\n\u001b[0;32m   2308\u001b[0m \u001b[38;5;124;03m    \"\"\"\u001b[39;00m\n\u001b[1;32m-> 2310\u001b[0m     y_type, y_true, y_pred \u001b[38;5;241m=\u001b[39m \u001b[43m_check_targets\u001b[49m\u001b[43m(\u001b[49m\u001b[43my_true\u001b[49m\u001b[43m,\u001b[49m\u001b[43m \u001b[49m\u001b[43my_pred\u001b[49m\u001b[43m)\u001b[49m\n\u001b[0;32m   2312\u001b[0m     \u001b[38;5;28;01mif\u001b[39;00m labels \u001b[38;5;129;01mis\u001b[39;00m \u001b[38;5;28;01mNone\u001b[39;00m:\n\u001b[0;32m   2313\u001b[0m         labels \u001b[38;5;241m=\u001b[39m unique_labels(y_true, y_pred)\n",
      "File \u001b[1;32m~\\anaconda3\\envs\\project\\lib\\site-packages\\sklearn\\metrics\\_classification.py:95\u001b[0m, in \u001b[0;36m_check_targets\u001b[1;34m(y_true, y_pred)\u001b[0m\n\u001b[0;32m     92\u001b[0m     y_type \u001b[38;5;241m=\u001b[39m {\u001b[38;5;124m\"\u001b[39m\u001b[38;5;124mmulticlass\u001b[39m\u001b[38;5;124m\"\u001b[39m}\n\u001b[0;32m     94\u001b[0m \u001b[38;5;28;01mif\u001b[39;00m \u001b[38;5;28mlen\u001b[39m(y_type) \u001b[38;5;241m>\u001b[39m \u001b[38;5;241m1\u001b[39m:\n\u001b[1;32m---> 95\u001b[0m     \u001b[38;5;28;01mraise\u001b[39;00m \u001b[38;5;167;01mValueError\u001b[39;00m(\n\u001b[0;32m     96\u001b[0m         \u001b[38;5;124m\"\u001b[39m\u001b[38;5;124mClassification metrics can\u001b[39m\u001b[38;5;124m'\u001b[39m\u001b[38;5;124mt handle a mix of \u001b[39m\u001b[38;5;132;01m{0}\u001b[39;00m\u001b[38;5;124m and \u001b[39m\u001b[38;5;132;01m{1}\u001b[39;00m\u001b[38;5;124m targets\u001b[39m\u001b[38;5;124m\"\u001b[39m\u001b[38;5;241m.\u001b[39mformat(\n\u001b[0;32m     97\u001b[0m             type_true, type_pred\n\u001b[0;32m     98\u001b[0m         )\n\u001b[0;32m     99\u001b[0m     )\n\u001b[0;32m    101\u001b[0m \u001b[38;5;66;03m# We can't have more than one value on y_type => The set is no more needed\u001b[39;00m\n\u001b[0;32m    102\u001b[0m y_type \u001b[38;5;241m=\u001b[39m y_type\u001b[38;5;241m.\u001b[39mpop()\n",
      "\u001b[1;31mValueError\u001b[0m: Classification metrics can't handle a mix of binary and continuous-multioutput targets"
     ]
    }
   ],
   "source": [
    "predictions = model.predict(x_val)\n",
    "print(len(x_val))\n",
    "print(len(y_val))\n",
    "classes_x=np.argmax(predictions,axis=1)\n",
    "\n",
    "print(classes_x)\n",
    "\n",
    "\n",
    "print(classification_report(y_val, classes_x, target_names = ['Normal (Class 0)','Defect (Class 1)']))"
   ]
  },
  {
   "cell_type": "code",
   "execution_count": null,
   "id": "7ccad3fd",
   "metadata": {},
   "outputs": [],
   "source": [
    "cwd = os.getcwd()\n",
    "model.save_weights(cwd)"
   ]
  },
  {
   "cell_type": "code",
   "execution_count": null,
   "id": "9bc9b695",
   "metadata": {},
   "outputs": [],
   "source": []
  }
 ],
 "metadata": {
  "kernelspec": {
   "display_name": "project",
   "language": "python",
   "name": "project"
  },
  "language_info": {
   "codemirror_mode": {
    "name": "ipython",
    "version": 3
   },
   "file_extension": ".py",
   "mimetype": "text/x-python",
   "name": "python",
   "nbconvert_exporter": "python",
   "pygments_lexer": "ipython3",
   "version": "3.10.8"
  }
 },
 "nbformat": 4,
 "nbformat_minor": 5
}
