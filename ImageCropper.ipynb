{
 "cells": [
  {
   "cell_type": "code",
   "execution_count": 1,
   "id": "358e3ff4",
   "metadata": {},
   "outputs": [],
   "source": [
    "import cv2\n",
    "import numpy as np\n",
    "import matplotlib.pyplot as plt\n",
    "import os\n",
    "\n",
    "pathNameDef = \"C:/Users/schof/LeedsUni/personalproject/Defect_images/\"\n",
    "pathNameMask = \"C:/Users/schof/LeedsUni/personalproject/Mask_images/\"\n",
    "pathCropped = \"C:/Users/schof/LeedsUni/personalproject/CroppedDefects/\"\n",
    "pathCroppedMask = \"C:/Users/schof/LeedsUni/personalproject/CroppedMasks/\"\n",
    "pathDefectTile = \"C:/Users/schof/LeedsUni/personalproject/DefectTiles/\"\n",
    "pathGoodTile = \"C:/Users/schof/LeedsUni/personalproject/GoodTiles/\"\n",
    "\n",
    "pathNameNoDefect = \"C:/Users/schof/LeedsUni/personalproject/NODefect_images/\"\n",
    "pathNameNoDefectCropped = \"C:/Users/schof/LeedsUni/personalproject/NODefect_images_cropped/\"\n",
    "\n",
    "\n",
    "suff = \"_mask\""
   ]
  },
  {
   "cell_type": "code",
   "execution_count": 7,
   "id": "24cc3cf6",
   "metadata": {},
   "outputs": [
    {
     "name": "stdout",
     "output_type": "stream",
     "text": [
      "['0001_002_00.png', '0002_002_00.png', '0003_002_00.png', '0004_002_01.png', '0005_002_01.png', '0006_002_01.png', '0010_006_02.png', '0011_006_02.png', '0012_006_02.png', '0013_006_02.png', '0014_006_02.png', '0015_006_02.png', '0016_006_02.png', '0017_002_02.png', '0018_010_03.png', '0019_016_03.png', '0020_016_03.png', '0021_016_03.png', '0022_019_02.png', '0023_019_02.png', '0024_019_02.png', '0025_019_02.png', '0026_019_02.png', '0027_019_02.png', '0028_019_02.png', '0029_019_02.png', '0030_019_02.png', '0031_019_02.png', '0032_019_02.png', '0033_019_02.png', '0034_019_02.png', '0035_019_02.png', '0036_019_02.png', '0037_019_02.png', '0038_019_02.png', '0039_019_02.png', '0040_019_02.png', '0041_019_02.png', '0042_019_02.png', '0043_019_04.png', '0044_019_04.png', '0045_019_04.png', '0046_019_04.png', '0047_019_04.png', '0048_019_04.png', '0049_030_03.png', '0050_019_03.png', '0051_019_03.png', '0052_019_03.png', '0053_019_03.png', '0054_019_03.png', '0055_019_06.png', '0056_019_06.png', '0057_019_06.png', '0058_019_06.png', '0059_019_01.png', '0060_022_06.png', '0061_022_06.png', '0062_022_00.png', '0063_022_00.png', '0064_022_00.png', '0065_022_00.png', '0066_023_01.png', '0067_023_01.png', '0068_023_02.png', '0069_023_02.png', '0070_023_02.png', '0071_030_03.png', '0072_010_03.png', '0073_010_03.png', '0074_010_03.png', '0075_010_03.png', '0076_030_03.png', '0077_022_03.png', '0078_025_03.png', '0079_025_03.png', '0080_036_01.png', '0081_006_04.png', '0082_030_04.png', '0083_029_04.png', '0084_030_04.png', '0085_030_02.png', '0086_030_02.png', '0087_030_02.png', '0088_030_02.png', '0089_002_01.png', '0090_002_01.png', '0091_030_01.png', '0092_030_01.png', '0093_030_01.png', '0094_027_05.png', '0095_010_03.png', '0096_030_03.png', '0097_030_03.png', '0098_019_02.png', '0099_019_02.png', '0100_025_08.png', '0101_022_03.png', '0102_010_03.png', '0103_010_03.png', '0104_022_03.png', '0105_010_03.png', '0106_010_03.png', '0107_025_03.png', '0108_025_03.png', '0109_025_03.png']\n"
     ]
    },
    {
     "data": {
      "image/png": "[encoded data removed]",
      "text/plain": [
       "<Figure size 640x480 with 1 Axes>"
      ]
     },
     "metadata": {},
     "output_type": "display_data"
    },
    {
     "data": {
      "image/png": "[encoded data removed]",
      "text/plain": [
       "<Figure size 640x480 with 1 Axes>"
      ]
     },
     "metadata": {},
     "output_type": "display_data"
    }
   ],
   "source": [
    "\n",
    "arr = os.listdir(pathNameDef)\n",
    "print(arr)\n",
    "\n",
    "defect = cv2.imread(pathNameDef+arr[0])\n",
    "mask = cv2.imread(pathNameMask+arr[0][:-4]+suff+\".png\")\n",
    "plt.imshow(defect)\n",
    "plt.show()\n",
    "plt.imshow(mask)\n",
    "plt.show()"
   ]
  },
  {
   "cell_type": "code",
   "execution_count": 5,
   "id": "a5c67fa9",
   "metadata": {},
   "outputs": [],
   "source": [
    "def findEdge(img):\n",
    "\n",
    "\n",
    "    img_gray = cv2.cvtColor(img, cv2.COLOR_BGR2GRAY)\n",
    "    img_blur = cv2.blur(img_gray, (3,3)) \n",
    "\n",
    "    ret, thresh1 = cv2.threshold(img_blur, 254, 255, cv2.THRESH_BINARY_INV)\n",
    "\n",
    "\n",
    "    edges = cv2.Canny(image=thresh1, threshold1=100, threshold2=200) # Canny Edge Detection\n",
    "    \n",
    "    inner = 0\n",
    "    y = 0\n",
    "    for row in edges:\n",
    "        x = 0\n",
    "        for pix in row:\n",
    "            if pix != 0:\n",
    "                if x > inner and x < 0.4*img.shape[1]:\n",
    "                    inner = x\n",
    "            x = x+1\n",
    "        y=y+1\n",
    "        \n",
    "    return inner, edges\n",
    "    \n",
    "def cropImage(img):\n",
    "    inner, canny = findEdge(img)\n",
    "    height = img.shape[0]\n",
    "    width = img.shape[1]\n",
    "\n",
    "    if(inner > 0):\n",
    "        cropped = img[0:height, inner + 80:width]\n",
    "    else:\n",
    "        cropped = img[0:height, 0:width]\n",
    "    return cropped, canny"
   ]
  },
  {
   "cell_type": "code",
   "execution_count": 63,
   "id": "23d3b3ec",
   "metadata": {},
   "outputs": [
    {
     "name": "stdout",
     "output_type": "stream",
     "text": [
      "C:/Users/schof/LeedsUni/personalproject/Defect_images/0001_002_00.png\n",
      "C:/Users/schof/LeedsUni/personalproject/Mask_images/0001_002_00_mask.png\n",
      "C:/Users/schof/LeedsUni/personalproject/Defect_images/0002_002_00.png\n",
      "C:/Users/schof/LeedsUni/personalproject/Mask_images/0002_002_00_mask.png\n",
      "C:/Users/schof/LeedsUni/personalproject/Defect_images/0003_002_00.png\n",
      "C:/Users/schof/LeedsUni/personalproject/Mask_images/0003_002_00_mask.png\n",
      "C:/Users/schof/LeedsUni/personalproject/Defect_images/0004_002_01.png\n",
      "C:/Users/schof/LeedsUni/personalproject/Mask_images/0004_002_01_mask.png\n",
      "C:/Users/schof/LeedsUni/personalproject/Defect_images/0005_002_01.png\n",
      "C:/Users/schof/LeedsUni/personalproject/Mask_images/0005_002_01_mask.png\n",
      "C:/Users/schof/LeedsUni/personalproject/Defect_images/0006_002_01.png\n",
      "C:/Users/schof/LeedsUni/personalproject/Mask_images/0006_002_01_mask.png\n",
      "C:/Users/schof/LeedsUni/personalproject/Defect_images/0010_006_02.png\n",
      "C:/Users/schof/LeedsUni/personalproject/Mask_images/0010_006_02_mask.png\n",
      "C:/Users/schof/LeedsUni/personalproject/Defect_images/0011_006_02.png\n",
      "C:/Users/schof/LeedsUni/personalproject/Mask_images/0011_006_02_mask.png\n",
      "C:/Users/schof/LeedsUni/personalproject/Defect_images/0012_006_02.png\n",
      "C:/Users/schof/LeedsUni/personalproject/Mask_images/0012_006_02_mask.png\n",
      "C:/Users/schof/LeedsUni/personalproject/Defect_images/0013_006_02.png\n",
      "C:/Users/schof/LeedsUni/personalproject/Mask_images/0013_006_02_mask.png\n",
      "C:/Users/schof/LeedsUni/personalproject/Defect_images/0014_006_02.png\n",
      "C:/Users/schof/LeedsUni/personalproject/Mask_images/0014_006_02_mask.png\n",
      "C:/Users/schof/LeedsUni/personalproject/Defect_images/0015_006_02.png\n",
      "C:/Users/schof/LeedsUni/personalproject/Mask_images/0015_006_02_mask.png\n",
      "C:/Users/schof/LeedsUni/personalproject/Defect_images/0016_006_02.png\n",
      "C:/Users/schof/LeedsUni/personalproject/Mask_images/0016_006_02_mask.png\n",
      "C:/Users/schof/LeedsUni/personalproject/Defect_images/0017_002_02.png\n",
      "C:/Users/schof/LeedsUni/personalproject/Mask_images/0017_002_02_mask.png\n",
      "C:/Users/schof/LeedsUni/personalproject/Defect_images/0018_010_03.png\n",
      "C:/Users/schof/LeedsUni/personalproject/Mask_images/0018_010_03_mask.png\n",
      "C:/Users/schof/LeedsUni/personalproject/Defect_images/0019_016_03.png\n",
      "C:/Users/schof/LeedsUni/personalproject/Mask_images/0019_016_03_mask.png\n",
      "C:/Users/schof/LeedsUni/personalproject/Defect_images/0020_016_03.png\n",
      "C:/Users/schof/LeedsUni/personalproject/Mask_images/0020_016_03_mask.png\n",
      "C:/Users/schof/LeedsUni/personalproject/Defect_images/0021_016_03.png\n",
      "C:/Users/schof/LeedsUni/personalproject/Mask_images/0021_016_03_mask.png\n",
      "C:/Users/schof/LeedsUni/personalproject/Defect_images/0022_019_02.png\n",
      "C:/Users/schof/LeedsUni/personalproject/Mask_images/0022_019_02_mask.png\n",
      "C:/Users/schof/LeedsUni/personalproject/Defect_images/0023_019_02.png\n",
      "C:/Users/schof/LeedsUni/personalproject/Mask_images/0023_019_02_mask.png\n",
      "C:/Users/schof/LeedsUni/personalproject/Defect_images/0024_019_02.png\n",
      "C:/Users/schof/LeedsUni/personalproject/Mask_images/0024_019_02_mask.png\n",
      "C:/Users/schof/LeedsUni/personalproject/Defect_images/0025_019_02.png\n",
      "C:/Users/schof/LeedsUni/personalproject/Mask_images/0025_019_02_mask.png\n",
      "C:/Users/schof/LeedsUni/personalproject/Defect_images/0026_019_02.png\n",
      "C:/Users/schof/LeedsUni/personalproject/Mask_images/0026_019_02_mask.png\n",
      "C:/Users/schof/LeedsUni/personalproject/Defect_images/0027_019_02.png\n",
      "C:/Users/schof/LeedsUni/personalproject/Mask_images/0027_019_02_mask.png\n",
      "C:/Users/schof/LeedsUni/personalproject/Defect_images/0028_019_02.png\n",
      "C:/Users/schof/LeedsUni/personalproject/Mask_images/0028_019_02_mask.png\n",
      "C:/Users/schof/LeedsUni/personalproject/Defect_images/0029_019_02.png\n",
      "C:/Users/schof/LeedsUni/personalproject/Mask_images/0029_019_02_mask.png\n",
      "C:/Users/schof/LeedsUni/personalproject/Defect_images/0030_019_02.png\n",
      "C:/Users/schof/LeedsUni/personalproject/Mask_images/0030_019_02_mask.png\n",
      "C:/Users/schof/LeedsUni/personalproject/Defect_images/0031_019_02.png\n",
      "C:/Users/schof/LeedsUni/personalproject/Mask_images/0031_019_02_mask.png\n",
      "C:/Users/schof/LeedsUni/personalproject/Defect_images/0032_019_02.png\n",
      "C:/Users/schof/LeedsUni/personalproject/Mask_images/0032_019_02_mask.png\n",
      "C:/Users/schof/LeedsUni/personalproject/Defect_images/0033_019_02.png\n",
      "C:/Users/schof/LeedsUni/personalproject/Mask_images/0033_019_02_mask.png\n",
      "C:/Users/schof/LeedsUni/personalproject/Defect_images/0034_019_02.png\n",
      "C:/Users/schof/LeedsUni/personalproject/Mask_images/0034_019_02_mask.png\n",
      "C:/Users/schof/LeedsUni/personalproject/Defect_images/0035_019_02.png\n",
      "C:/Users/schof/LeedsUni/personalproject/Mask_images/0035_019_02_mask.png\n",
      "C:/Users/schof/LeedsUni/personalproject/Defect_images/0036_019_02.png\n",
      "C:/Users/schof/LeedsUni/personalproject/Mask_images/0036_019_02_mask.png\n",
      "C:/Users/schof/LeedsUni/personalproject/Defect_images/0037_019_02.png\n",
      "C:/Users/schof/LeedsUni/personalproject/Mask_images/0037_019_02_mask.png\n",
      "C:/Users/schof/LeedsUni/personalproject/Defect_images/0038_019_02.png\n",
      "C:/Users/schof/LeedsUni/personalproject/Mask_images/0038_019_02_mask.png\n",
      "C:/Users/schof/LeedsUni/personalproject/Defect_images/0039_019_02.png\n",
      "C:/Users/schof/LeedsUni/personalproject/Mask_images/0039_019_02_mask.png\n",
      "C:/Users/schof/LeedsUni/personalproject/Defect_images/0040_019_02.png\n",
      "C:/Users/schof/LeedsUni/personalproject/Mask_images/0040_019_02_mask.png\n",
      "C:/Users/schof/LeedsUni/personalproject/Defect_images/0041_019_02.png\n",
      "C:/Users/schof/LeedsUni/personalproject/Mask_images/0041_019_02_mask.png\n",
      "C:/Users/schof/LeedsUni/personalproject/Defect_images/0042_019_02.png\n",
      "C:/Users/schof/LeedsUni/personalproject/Mask_images/0042_019_02_mask.png\n",
      "C:/Users/schof/LeedsUni/personalproject/Defect_images/0043_019_04.png\n",
      "C:/Users/schof/LeedsUni/personalproject/Mask_images/0043_019_04_mask.png\n",
      "C:/Users/schof/LeedsUni/personalproject/Defect_images/0044_019_04.png\n",
      "C:/Users/schof/LeedsUni/personalproject/Mask_images/0044_019_04_mask.png\n",
      "C:/Users/schof/LeedsUni/personalproject/Defect_images/0045_019_04.png\n",
      "C:/Users/schof/LeedsUni/personalproject/Mask_images/0045_019_04_mask.png\n",
      "C:/Users/schof/LeedsUni/personalproject/Defect_images/0046_019_04.png\n",
      "C:/Users/schof/LeedsUni/personalproject/Mask_images/0046_019_04_mask.png\n",
      "C:/Users/schof/LeedsUni/personalproject/Defect_images/0047_019_04.png\n",
      "C:/Users/schof/LeedsUni/personalproject/Mask_images/0047_019_04_mask.png\n",
      "C:/Users/schof/LeedsUni/personalproject/Defect_images/0048_019_04.png\n",
      "C:/Users/schof/LeedsUni/personalproject/Mask_images/0048_019_04_mask.png\n",
      "C:/Users/schof/LeedsUni/personalproject/Defect_images/0049_030_03.png\n",
      "C:/Users/schof/LeedsUni/personalproject/Mask_images/0049_030_03_mask.png\n",
      "C:/Users/schof/LeedsUni/personalproject/Defect_images/0050_019_03.png\n",
      "C:/Users/schof/LeedsUni/personalproject/Mask_images/0050_019_03_mask.png\n",
      "C:/Users/schof/LeedsUni/personalproject/Defect_images/0051_019_03.png\n",
      "C:/Users/schof/LeedsUni/personalproject/Mask_images/0051_019_03_mask.png\n",
      "C:/Users/schof/LeedsUni/personalproject/Defect_images/0052_019_03.png\n",
      "C:/Users/schof/LeedsUni/personalproject/Mask_images/0052_019_03_mask.png\n",
      "C:/Users/schof/LeedsUni/personalproject/Defect_images/0053_019_03.png\n",
      "C:/Users/schof/LeedsUni/personalproject/Mask_images/0053_019_03_mask.png\n",
      "C:/Users/schof/LeedsUni/personalproject/Defect_images/0054_019_03.png\n",
      "C:/Users/schof/LeedsUni/personalproject/Mask_images/0054_019_03_mask.png\n",
      "C:/Users/schof/LeedsUni/personalproject/Defect_images/0055_019_06.png\n",
      "C:/Users/schof/LeedsUni/personalproject/Mask_images/0055_019_06_mask.png\n",
      "C:/Users/schof/LeedsUni/personalproject/Defect_images/0056_019_06.png\n",
      "C:/Users/schof/LeedsUni/personalproject/Mask_images/0056_019_06_mask.png\n",
      "C:/Users/schof/LeedsUni/personalproject/Defect_images/0057_019_06.png\n",
      "C:/Users/schof/LeedsUni/personalproject/Mask_images/0057_019_06_mask.png\n",
      "C:/Users/schof/LeedsUni/personalproject/Defect_images/0058_019_06.png\n",
      "C:/Users/schof/LeedsUni/personalproject/Mask_images/0058_019_06_mask.png\n",
      "C:/Users/schof/LeedsUni/personalproject/Defect_images/0059_019_01.png\n",
      "C:/Users/schof/LeedsUni/personalproject/Mask_images/0059_019_01_mask.png\n",
      "C:/Users/schof/LeedsUni/personalproject/Defect_images/0060_022_06.png\n",
      "C:/Users/schof/LeedsUni/personalproject/Mask_images/0060_022_06_mask.png\n",
      "C:/Users/schof/LeedsUni/personalproject/Defect_images/0061_022_06.png\n",
      "C:/Users/schof/LeedsUni/personalproject/Mask_images/0061_022_06_mask.png\n"
     ]
    },
    {
     "name": "stdout",
     "output_type": "stream",
     "text": [
      "C:/Users/schof/LeedsUni/personalproject/Defect_images/0062_022_00.png\n",
      "C:/Users/schof/LeedsUni/personalproject/Mask_images/0062_022_00_mask.png\n",
      "C:/Users/schof/LeedsUni/personalproject/Defect_images/0063_022_00.png\n",
      "C:/Users/schof/LeedsUni/personalproject/Mask_images/0063_022_00_mask.png\n",
      "C:/Users/schof/LeedsUni/personalproject/Defect_images/0064_022_00.png\n",
      "C:/Users/schof/LeedsUni/personalproject/Mask_images/0064_022_00_mask.png\n",
      "C:/Users/schof/LeedsUni/personalproject/Defect_images/0065_022_00.png\n",
      "C:/Users/schof/LeedsUni/personalproject/Mask_images/0065_022_00_mask.png\n",
      "C:/Users/schof/LeedsUni/personalproject/Defect_images/0066_023_01.png\n",
      "C:/Users/schof/LeedsUni/personalproject/Mask_images/0066_023_01_mask.png\n",
      "C:/Users/schof/LeedsUni/personalproject/Defect_images/0067_023_01.png\n",
      "C:/Users/schof/LeedsUni/personalproject/Mask_images/0067_023_01_mask.png\n",
      "C:/Users/schof/LeedsUni/personalproject/Defect_images/0068_023_02.png\n",
      "C:/Users/schof/LeedsUni/personalproject/Mask_images/0068_023_02_mask.png\n",
      "C:/Users/schof/LeedsUni/personalproject/Defect_images/0069_023_02.png\n",
      "C:/Users/schof/LeedsUni/personalproject/Mask_images/0069_023_02_mask.png\n",
      "C:/Users/schof/LeedsUni/personalproject/Defect_images/0070_023_02.png\n",
      "C:/Users/schof/LeedsUni/personalproject/Mask_images/0070_023_02_mask.png\n",
      "C:/Users/schof/LeedsUni/personalproject/Defect_images/0071_030_03.png\n",
      "C:/Users/schof/LeedsUni/personalproject/Mask_images/0071_030_03_mask.png\n",
      "C:/Users/schof/LeedsUni/personalproject/Defect_images/0072_010_03.png\n",
      "C:/Users/schof/LeedsUni/personalproject/Mask_images/0072_010_03_mask.png\n",
      "C:/Users/schof/LeedsUni/personalproject/Defect_images/0073_010_03.png\n",
      "C:/Users/schof/LeedsUni/personalproject/Mask_images/0073_010_03_mask.png\n",
      "C:/Users/schof/LeedsUni/personalproject/Defect_images/0074_010_03.png\n",
      "C:/Users/schof/LeedsUni/personalproject/Mask_images/0074_010_03_mask.png\n",
      "C:/Users/schof/LeedsUni/personalproject/Defect_images/0075_010_03.png\n",
      "C:/Users/schof/LeedsUni/personalproject/Mask_images/0075_010_03_mask.png\n",
      "C:/Users/schof/LeedsUni/personalproject/Defect_images/0076_030_03.png\n",
      "C:/Users/schof/LeedsUni/personalproject/Mask_images/0076_030_03_mask.png\n",
      "C:/Users/schof/LeedsUni/personalproject/Defect_images/0077_022_03.png\n",
      "C:/Users/schof/LeedsUni/personalproject/Mask_images/0077_022_03_mask.png\n",
      "C:/Users/schof/LeedsUni/personalproject/Defect_images/0078_025_03.png\n",
      "C:/Users/schof/LeedsUni/personalproject/Mask_images/0078_025_03_mask.png\n",
      "C:/Users/schof/LeedsUni/personalproject/Defect_images/0079_025_03.png\n",
      "C:/Users/schof/LeedsUni/personalproject/Mask_images/0079_025_03_mask.png\n",
      "C:/Users/schof/LeedsUni/personalproject/Defect_images/0080_036_01.png\n",
      "C:/Users/schof/LeedsUni/personalproject/Mask_images/0080_036_01_mask.png\n",
      "C:/Users/schof/LeedsUni/personalproject/Defect_images/0081_006_04.png\n",
      "C:/Users/schof/LeedsUni/personalproject/Mask_images/0081_006_04_mask.png\n",
      "C:/Users/schof/LeedsUni/personalproject/Defect_images/0082_030_04.png\n",
      "C:/Users/schof/LeedsUni/personalproject/Mask_images/0082_030_04_mask.png\n",
      "C:/Users/schof/LeedsUni/personalproject/Defect_images/0083_029_04.png\n",
      "C:/Users/schof/LeedsUni/personalproject/Mask_images/0083_029_04_mask.png\n",
      "C:/Users/schof/LeedsUni/personalproject/Defect_images/0084_030_04.png\n",
      "C:/Users/schof/LeedsUni/personalproject/Mask_images/0084_030_04_mask.png\n",
      "C:/Users/schof/LeedsUni/personalproject/Defect_images/0085_030_02.png\n",
      "C:/Users/schof/LeedsUni/personalproject/Mask_images/0085_030_02_mask.png\n",
      "C:/Users/schof/LeedsUni/personalproject/Defect_images/0086_030_02.png\n",
      "C:/Users/schof/LeedsUni/personalproject/Mask_images/0086_030_02_mask.png\n",
      "C:/Users/schof/LeedsUni/personalproject/Defect_images/0087_030_02.png\n",
      "C:/Users/schof/LeedsUni/personalproject/Mask_images/0087_030_02_mask.png\n",
      "C:/Users/schof/LeedsUni/personalproject/Defect_images/0088_030_02.png\n",
      "C:/Users/schof/LeedsUni/personalproject/Mask_images/0088_030_02_mask.png\n",
      "C:/Users/schof/LeedsUni/personalproject/Defect_images/0089_002_01.png\n",
      "C:/Users/schof/LeedsUni/personalproject/Mask_images/0089_002_01_mask.png\n",
      "C:/Users/schof/LeedsUni/personalproject/Defect_images/0090_002_01.png\n",
      "C:/Users/schof/LeedsUni/personalproject/Mask_images/0090_002_01_mask.png\n",
      "C:/Users/schof/LeedsUni/personalproject/Defect_images/0091_030_01.png\n",
      "C:/Users/schof/LeedsUni/personalproject/Mask_images/0091_030_01_mask.png\n",
      "C:/Users/schof/LeedsUni/personalproject/Defect_images/0092_030_01.png\n",
      "C:/Users/schof/LeedsUni/personalproject/Mask_images/0092_030_01_mask.png\n",
      "C:/Users/schof/LeedsUni/personalproject/Defect_images/0093_030_01.png\n",
      "C:/Users/schof/LeedsUni/personalproject/Mask_images/0093_030_01_mask.png\n",
      "C:/Users/schof/LeedsUni/personalproject/Defect_images/0094_027_05.png\n",
      "C:/Users/schof/LeedsUni/personalproject/Mask_images/0094_027_05_mask.png\n",
      "C:/Users/schof/LeedsUni/personalproject/Defect_images/0095_010_03.png\n",
      "C:/Users/schof/LeedsUni/personalproject/Mask_images/0095_010_03_mask.png\n",
      "C:/Users/schof/LeedsUni/personalproject/Defect_images/0096_030_03.png\n",
      "C:/Users/schof/LeedsUni/personalproject/Mask_images/0096_030_03_mask.png\n",
      "C:/Users/schof/LeedsUni/personalproject/Defect_images/0097_030_03.png\n",
      "C:/Users/schof/LeedsUni/personalproject/Mask_images/0097_030_03_mask.png\n",
      "C:/Users/schof/LeedsUni/personalproject/Defect_images/0098_019_02.png\n",
      "C:/Users/schof/LeedsUni/personalproject/Mask_images/0098_019_02_mask.png\n",
      "C:/Users/schof/LeedsUni/personalproject/Defect_images/0099_019_02.png\n",
      "C:/Users/schof/LeedsUni/personalproject/Mask_images/0099_019_02_mask.png\n",
      "C:/Users/schof/LeedsUni/personalproject/Defect_images/0101_022_03.png\n",
      "C:/Users/schof/LeedsUni/personalproject/Mask_images/0101_022_03_mask.png\n",
      "C:/Users/schof/LeedsUni/personalproject/Defect_images/0102_010_03.png\n",
      "C:/Users/schof/LeedsUni/personalproject/Mask_images/0102_010_03_mask.png\n",
      "C:/Users/schof/LeedsUni/personalproject/Defect_images/0103_010_03.png\n",
      "C:/Users/schof/LeedsUni/personalproject/Mask_images/0103_010_03_mask.png\n",
      "C:/Users/schof/LeedsUni/personalproject/Defect_images/0104_022_03.png\n",
      "C:/Users/schof/LeedsUni/personalproject/Mask_images/0104_022_03_mask.png\n",
      "C:/Users/schof/LeedsUni/personalproject/Defect_images/0105_010_03.png\n",
      "C:/Users/schof/LeedsUni/personalproject/Mask_images/0105_010_03_mask.png\n",
      "C:/Users/schof/LeedsUni/personalproject/Defect_images/0106_010_03.png\n",
      "C:/Users/schof/LeedsUni/personalproject/Mask_images/0106_010_03_mask.png\n",
      "C:/Users/schof/LeedsUni/personalproject/Defect_images/0107_025_03.png\n",
      "C:/Users/schof/LeedsUni/personalproject/Mask_images/0107_025_03_mask.png\n",
      "C:/Users/schof/LeedsUni/personalproject/Defect_images/0108_025_03.png\n",
      "C:/Users/schof/LeedsUni/personalproject/Mask_images/0108_025_03_mask.png\n",
      "C:/Users/schof/LeedsUni/personalproject/Defect_images/0109_025_03.png\n",
      "C:/Users/schof/LeedsUni/personalproject/Mask_images/0109_025_03_mask.png\n"
     ]
    }
   ],
   "source": [
    "arr = os.listdir(pathNameDef)\n",
    "\n",
    "\n",
    "for name in arr:\n",
    "    defect = cv2.imread(pathNameDef+name)\n",
    "    mask = cv2.imread(pathNameMask+name[:-4]+suff+\".png\")\n",
    "    height = mask.shape[0]\n",
    "    width = mask.shape[1]\n",
    "\n",
    "    cropped, canny = cropImage(defect)\n",
    "    c_width = cropped.shape[1]\n",
    "\n",
    "    croppedMask = mask[0:height, width-c_width:width]\n",
    "\n",
    "    #print(pathNameDef+name)\n",
    "    #print(pathNameMask+name[:-4]+suff+\".png\")\n",
    "    \n",
    "    \n",
    "    cv2.imwrite(pathCropped+name, cropped)\n",
    "    cv2.imwrite(pathCroppedMask+name[:-4]+suff+\".png\", croppedMask)\n",
    "\n",
    "print(\"done\")\n",
    "#     plt.imshow(cropped)\n",
    "#     plt.show()\n",
    "#     plt.imshow(croppedMask)\n",
    "#     plt.show()\n",
    "#     plt.imshow(canny)\n",
    "#     plt.show()"
   ]
  },
  {
   "cell_type": "markdown",
   "id": "d2f54a71",
   "metadata": {},
   "source": [
    "Image 44 and 97 have two masks that need to be joined"
   ]
  },
  {
   "cell_type": "code",
   "execution_count": 59,
   "id": "130ccc89",
   "metadata": {},
   "outputs": [
    {
     "data": {
      "image/png": "[encoded data removed]",
      "text/plain": [
       "<Figure size 640x480 with 1 Axes>"
      ]
     },
     "metadata": {},
     "output_type": "display_data"
    },
    {
     "data": {
      "image/png": "[encoded data removed]",
      "text/plain": [
       "<Figure size 640x480 with 1 Axes>"
      ]
     },
     "metadata": {},
     "output_type": "display_data"
    },
    {
     "name": "stdout",
     "output_type": "stream",
     "text": [
      "[[183, 1146, 216], [183, 1147, 208], [184, 1146, 242], [184, 1147, 197], [185, 1145, 192], [185, 1146, 239], [185, 1147, 204], [186, 1145, 224], [186, 1146, 242], [186, 1147, 240], [186, 1148, 220], [187, 1144, 247], [187, 1145, 229], [187, 1146, 234], [187, 1147, 247], [187, 1148, 247], [187, 1149, 239], [188, 1144, 235], [188, 1145, 226], [188, 1146, 247], [188, 1147, 235], [188, 1148, 244], [188, 1149, 244], [188, 1150, 221], [189, 1144, 235], [189, 1145, 228], [189, 1146, 247], [189, 1147, 222], [189, 1148, 227], [189, 1149, 227], [189, 1150, 212], [190, 1144, 233], [190, 1145, 235], [190, 1146, 241], [190, 1147, 241], [190, 1148, 223], [191, 1145, 218], [191, 1146, 227], [191, 1147, 239], [191, 1148, 218]]\n"
     ]
    }
   ],
   "source": [
    "# need to join both 44 and 97 have two masks that need to be joined\n",
    "\n",
    "M44_1 = \"C:/Users/schof/LeedsUni/personalproject/Mask_images/0044_019_04_mask1.png\"\n",
    "M44_2 = \"C:/Users/schof/LeedsUni/personalproject/Mask_images/0044_019_04_mask2.png\"\n",
    "\n",
    "\n",
    "m1 = cv2.imread(M44_1)\n",
    "Mask1 = cv2.cvtColor(m1, cv2.COLOR_BGR2GRAY)\n",
    "\n",
    "m2 = cv2.imread(M44_2)\n",
    "Mask2 = cv2.cvtColor(m2, cv2.COLOR_BGR2GRAY)\n",
    "\n",
    "MaskBoth = np.copy(Mask1)\n",
    "\n",
    "mask1Indecies = []\n",
    "\n",
    "y= 0\n",
    "for row in Mask2:\n",
    "    x = 0\n",
    "    for pix in row:\n",
    "        if pix != 0:\n",
    "            mask1Indecies.append([y,x,pix])\n",
    "        x = x+1\n",
    "    y=y+1\n",
    "    \n",
    "for pix in mask1Indecies:\n",
    "    MaskBoth[pix[0]][pix[1]] = pix[2]\n",
    "        \n",
    "    \n",
    "plt.imshow(MaskBoth)\n",
    "plt.show()\n",
    "\n",
    "M44Both = cv2.cvtColor(MaskBoth,cv2.COLOR_GRAY2RGB)\n",
    "\n",
    "cv2.imwrite(\"C:/Users/schof/LeedsUni/personalproject/Mask_images/0044_019_04_mask.png\", M44Both)\n",
    "\n",
    "plt.imshow(backtorgb)\n",
    "plt.show()\n",
    "print(mask1Indecies)"
   ]
  },
  {
   "cell_type": "code",
   "execution_count": 58,
   "id": "b7ff66e5",
   "metadata": {},
   "outputs": [
    {
     "data": {
      "image/png": "[encoded data removed]",
      "text/plain": [
       "<Figure size 640x480 with 1 Axes>"
      ]
     },
     "metadata": {},
     "output_type": "display_data"
    },
    {
     "data": {
      "image/png": "[encoded data removed]",
      "text/plain": [
       "<Figure size 640x480 with 1 Axes>"
      ]
     },
     "metadata": {},
     "output_type": "display_data"
    },
    {
     "data": {
      "image/png": "[encoded data removed]",
      "text/plain": [
       "<Figure size 640x480 with 1 Axes>"
      ]
     },
     "metadata": {},
     "output_type": "display_data"
    },
    {
     "data": {
      "image/png": "[encoded data removed]",
      "text/plain": [
       "<Figure size 640x480 with 1 Axes>"
      ]
     },
     "metadata": {},
     "output_type": "display_data"
    },
    {
     "name": "stdout",
     "output_type": "stream",
     "text": [
      "[[34, 2759, 230], [34, 2760, 243], [34, 2761, 245], [34, 2762, 243], [34, 2763, 233], [34, 2764, 72], [35, 2756, 172], [35, 2757, 240], [35, 2758, 243], [35, 2759, 246], [35, 2760, 247], [35, 2761, 246], [35, 2762, 246], [35, 2763, 246], [35, 2764, 215], [36, 2756, 239], [36, 2757, 246], [36, 2758, 246], [36, 2759, 246], [36, 2760, 245], [36, 2761, 246], [36, 2762, 246], [36, 2763, 245], [36, 2764, 218], [37, 2756, 246], [37, 2757, 246], [37, 2758, 245], [37, 2759, 245], [37, 2760, 245], [37, 2761, 244], [37, 2762, 246], [37, 2763, 236], [38, 2756, 245], [38, 2757, 246], [38, 2758, 246], [38, 2759, 246], [38, 2760, 246], [38, 2761, 245], [38, 2762, 245], [38, 2763, 236], [39, 2756, 229], [39, 2757, 245], [39, 2758, 246], [39, 2759, 246], [39, 2760, 246], [39, 2761, 246], [39, 2762, 246], [39, 2763, 149], [40, 2759, 208], [40, 2760, 243], [40, 2761, 245], [40, 2762, 242], [40, 2763, 93]]\n"
     ]
    }
   ],
   "source": [
    "# need to join both 44 and 97 have two masks that need to be joined\n",
    "\n",
    "M44_1 = \"C:/Users/schof/LeedsUni/personalproject/Mask_images/0097_030_03_mask1.png\"\n",
    "M44_2 = \"C:/Users/schof/LeedsUni/personalproject/Mask_images/0097_030_03_mask2.png\"\n",
    "\n",
    "\n",
    "m1 = cv2.imread(M44_1)\n",
    "Mask1 = cv2.cvtColor(m1, cv2.COLOR_BGR2GRAY)\n",
    "\n",
    "m2 = cv2.imread(M44_2)\n",
    "Mask2 = cv2.cvtColor(m2, cv2.COLOR_BGR2GRAY)\n",
    "\n",
    "MaskBoth = np.copy(Mask1)\n",
    "\n",
    "mask1Indecies = []\n",
    "\n",
    "y= 0\n",
    "for row in Mask2:\n",
    "    x = 0\n",
    "    for pix in row:\n",
    "        if pix != 0:\n",
    "            mask1Indecies.append([y,x,pix])\n",
    "        x = x+1\n",
    "    y=y+1\n",
    "    \n",
    "for pix in mask1Indecies:\n",
    "    MaskBoth[pix[0]][pix[1]] = pix[2]\n",
    "        \n",
    "    \n",
    "plt.imshow(MaskBoth)\n",
    "plt.show()\n",
    "\n",
    "M44Both = cv2.cvtColor(MaskBoth,cv2.COLOR_GRAY2RGB)\n",
    "\n",
    "cv2.imwrite(\"C:/Users/schof/LeedsUni/personalproject/Mask_images/0097_030_03_mask.png\", M44Both)\n",
    "\n",
    "plt.imshow(m1)\n",
    "plt.show()\n",
    "plt.imshow(m2)\n",
    "plt.show()\n",
    "plt.imshow(M44Both)\n",
    "plt.show()\n",
    "print(mask1Indecies)"
   ]
  },
  {
   "cell_type": "markdown",
   "id": "1ef2d62e",
   "metadata": {},
   "source": [
    "Images 90, 91, 92, 93, 94 need manual cropping, not bad out of 109"
   ]
  },
  {
   "cell_type": "code",
   "execution_count": 74,
   "id": "37a416b0",
   "metadata": {},
   "outputs": [
    {
     "data": {
      "text/plain": [
       "True"
      ]
     },
     "execution_count": 74,
     "metadata": {},
     "output_type": "execute_result"
    }
   ],
   "source": [
    "img = cv2.imread(\"C:/Users/schof/LeedsUni/personalproject/Defect_images/0090_002_01.png\")\n",
    "mask = cv2.imread(\"C:/Users/schof/LeedsUni/personalproject/Mask_images/0090_002_01_mask.png\")\n",
    "\n",
    "height = img.shape[0]\n",
    "width = img.shape[1]\n",
    "\n",
    "cropped = img[0:height,500:width]\n",
    "croppedMask = mask[0:height,500:width]\n",
    "\n",
    "cv2.imwrite(\"C:/Users/schof/LeedsUni/personalproject/CroppedDefects/0090_002_01.png\", cropped)\n",
    "cv2.imwrite(\"C:/Users/schof/LeedsUni/personalproject/CroppedMasks/0090_002_01_mask.png\", croppedMask)\n",
    "\n",
    "# ------------------------------------------------\n",
    "\n",
    "img = cv2.imread(\"C:/Users/schof/LeedsUni/personalproject/Defect_images/0091_030_01.png\")\n",
    "mask = cv2.imread(\"C:/Users/schof/LeedsUni/personalproject/Mask_images/0091_030_01_mask.png\")\n",
    "\n",
    "height = img.shape[0]\n",
    "width = img.shape[1]\n",
    "\n",
    "cropped = img[0:height,500:width]\n",
    "croppedMask = mask[0:height,500:width]\n",
    "\n",
    "cv2.imwrite(\"C:/Users/schof/LeedsUni/personalproject/CroppedDefects/0091_030_01.png\", cropped)\n",
    "cv2.imwrite(\"C:/Users/schof/LeedsUni/personalproject/CroppedMasks/0091_030_01_mask.png\", croppedMask)\n",
    "\n",
    "# ------------------------------------------------\n",
    "\n",
    "img = cv2.imread(\"C:/Users/schof/LeedsUni/personalproject/Defect_images/0092_030_01.png\")\n",
    "mask = cv2.imread(\"C:/Users/schof/LeedsUni/personalproject/Mask_images/0092_030_01_mask.png\")\n",
    "\n",
    "height = img.shape[0]\n",
    "width = img.shape[1]\n",
    "\n",
    "cropped = img[0:height,500:width]\n",
    "croppedMask = mask[0:height,500:width]\n",
    "\n",
    "cv2.imwrite(\"C:/Users/schof/LeedsUni/personalproject/CroppedDefects/0092_030_01.png\", cropped)\n",
    "cv2.imwrite(\"C:/Users/schof/LeedsUni/personalproject/CroppedMasks/0092_030_01_mask.png\", croppedMask)\n",
    "\n",
    "# ------------------------------------------------\n",
    "\n",
    "img = cv2.imread(\"C:/Users/schof/LeedsUni/personalproject/Defect_images/0093_030_01.png\")\n",
    "mask = cv2.imread(\"C:/Users/schof/LeedsUni/personalproject/Mask_images/0093_030_01_mask.png\")\n",
    "\n",
    "height = img.shape[0]\n",
    "width = img.shape[1]\n",
    "\n",
    "cropped = img[0:height,500:width]\n",
    "croppedMask = mask[0:height,500:width]\n",
    "\n",
    "cv2.imwrite(\"C:/Users/schof/LeedsUni/personalproject/CroppedDefects/0093_030_01.png\", cropped)\n",
    "cv2.imwrite(\"C:/Users/schof/LeedsUni/personalproject/CroppedMasks/0093_030_01_mask.png\", croppedMask)"
   ]
  },
  {
   "cell_type": "code",
   "execution_count": null,
   "id": "893448ba",
   "metadata": {},
   "outputs": [],
   "source": [
    "# Now cropp the good images"
   ]
  },
  {
   "cell_type": "code",
   "execution_count": 4,
   "id": "63711ca1",
   "metadata": {},
   "outputs": [
    {
     "data": {
      "image/png": "[encoded data removed]",
      "text/plain": [
       "<Figure size 640x480 with 1 Axes>"
      ]
     },
     "metadata": {},
     "output_type": "display_data"
    }
   ],
   "source": [
    "arr = os.listdir(pathNameNoDefect)\n",
    "good = cv2.imread(pathNameNoDefect+arr[0])\n",
    "    \n",
    "plt.imshow(good)\n",
    "plt.show()\n"
   ]
  },
  {
   "cell_type": "code",
   "execution_count": 7,
   "id": "e44fc31c",
   "metadata": {},
   "outputs": [],
   "source": [
    "for name in arr:\n",
    "    img = cv2.imread(pathNameNoDefect + name)\n",
    "    cropped, canny = cropImage(img)\n",
    "    \n",
    "    cv2.imwrite(pathNameNoDefectCropped+name, cropped)\n"
   ]
  },
  {
   "cell_type": "code",
   "execution_count": null,
   "id": "bbb39b03",
   "metadata": {},
   "outputs": [],
   "source": []
  }
 ],
 "metadata": {
  "kernelspec": {
   "display_name": "project",
   "language": "python",
   "name": "project"
  },
  "language_info": {
   "codemirror_mode": {
    "name": "ipython",
    "version": 3
   },
   "file_extension": ".py",
   "mimetype": "text/x-python",
   "name": "python",
   "nbconvert_exporter": "python",
   "pygments_lexer": "ipython3",
   "version": "3.10.8"
  }
 },
 "nbformat": 4,
 "nbformat_minor": 5
}
